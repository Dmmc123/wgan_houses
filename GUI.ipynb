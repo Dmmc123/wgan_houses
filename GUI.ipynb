{
  "nbformat": 4,
  "nbformat_minor": 0,
  "metadata": {
    "colab": {
      "name": "GUI.ipynb",
      "provenance": [],
      "collapsed_sections": []
    },
    "kernelspec": {
      "name": "python3",
      "display_name": "Python 3"
    },
    "language_info": {
      "name": "python"
    },
    "accelerator": "GPU"
  },
  "cells": [
    {
      "cell_type": "code",
      "source": [
        "from IPython.display import clear_output"
      ],
      "metadata": {
        "id": "SsyNFwTXoDIY"
      },
      "execution_count": 1,
      "outputs": []
    },
    {
      "cell_type": "code",
      "execution_count": 2,
      "metadata": {
        "id": "WqfLTGaPoAqI"
      },
      "outputs": [],
      "source": [
        "!pip install -q streamlit\n",
        "!pip install pyngrok\n",
        "\n",
        "!wget https://bin.equinox.io/c/4VmDzA7iaHb/ngrok-stable-linux-amd64.zip\n",
        "!unzip ngrok-stable-linux-amd64.zip\n",
        "\n",
        "!git clone https://github.com/Dmmc123/wgan_houses.git\n",
        "\n",
        "clear_output()"
      ]
    },
    {
      "cell_type": "code",
      "source": [
        "from torchvision.utils import save_image\n",
        "from torch.autograd import Variable\n",
        "from wgan_houses.models.utils.WGAN import Generator\n",
        "from pyngrok import ngrok\n",
        "from PIL import Image\n",
        "\n",
        "import streamlit as st\n",
        "import numpy as np\n",
        "\n",
        "import torch"
      ],
      "metadata": {
        "id": "uRR8rYkWoOtp"
      },
      "execution_count": 4,
      "outputs": []
    },
    {
      "cell_type": "code",
      "source": [
        "from google.colab import drive\n",
        "drive.mount('/content/drive')"
      ],
      "metadata": {
        "colab": {
          "base_uri": "https://localhost:8080/"
        },
        "id": "smOPnYrnqEKn",
        "outputId": "1122d073-c5d9-4def-9669-fc76dbfc30d4"
      },
      "execution_count": 5,
      "outputs": [
        {
          "output_type": "stream",
          "name": "stdout",
          "text": [
            "Drive already mounted at /content/drive; to attempt to forcibly remount, call drive.mount(\"/content/drive\", force_remount=True).\n"
          ]
        }
      ]
    },
    {
      "cell_type": "code",
      "source": [
        "%%writefile app.py\n",
        "\n",
        "from torchvision.utils import save_image\n",
        "from torch.autograd import Variable\n",
        "from wgan_houses.models.utils.WGAN import Generator\n",
        "from PIL import Image\n",
        "\n",
        "import streamlit as st\n",
        "import numpy as np\n",
        "\n",
        "import torch\n",
        "\n",
        "# page configuration\n",
        "PAGE_CONFIG = {\"page_title\":\"ThisHouseDoesNotExist\",\"page_icon\":\":smiley:\",\"layout\":\"centered\"}\n",
        "st.set_page_config(**PAGE_CONFIG)\n",
        "\n",
        "def main():\n",
        "\n",
        "    # setting some titles\n",
        "    st.title('These houses does not exist!')\n",
        "    st.write('### Click this button to get some inspiration!')\n",
        "\n",
        "    # importing the generator module\n",
        "    model_dir = 'drive/MyDrive/g_big_last.pt'\n",
        "    generator = torch.load(model_dir, map_location=torch.device('cpu'))\n",
        "\n",
        "    # type of tensor for processing on cpu\n",
        "    Tensor = torch.FloatTensor\n",
        "\n",
        "    # doing the button\n",
        "    button = st.button(\"See something new!\")\n",
        "    if button:\n",
        "\n",
        "        # generating a fake house\n",
        "        noise = Variable(Tensor(np.random.normal(0, 1, (2, 200))))\n",
        "        fake_house = generator(noise)\n",
        "\n",
        "        # saving the image\n",
        "        save_image(fake_house.data[-1:], \"house.png\", nrow=1, normalize=True)\n",
        "\n",
        "        # transforming into PIL object\n",
        "        fake_house = Image.open('house.png')\n",
        "\n",
        "        # displaying the iamge\n",
        "        st.image(fake_house, caption='Wow, a house!', use_column_width=True)\n",
        "\t\n",
        "if __name__ == '__main__':\n",
        "\tmain()"
      ],
      "metadata": {
        "colab": {
          "base_uri": "https://localhost:8080/"
        },
        "id": "9JspFF8AoXHQ",
        "outputId": "de0e3158-cc5d-4891-8f6b-d1fe4db7c449"
      },
      "execution_count": 11,
      "outputs": [
        {
          "output_type": "stream",
          "name": "stdout",
          "text": [
            "Overwriting app.py\n"
          ]
        }
      ]
    },
    {
      "cell_type": "code",
      "source": [
        "! ./ngrok authtoken 22C6xhSYwLahRGlOFo4jhFCINlY_4f5K6nBdfQUC39fSFfsgw"
      ],
      "metadata": {
        "colab": {
          "base_uri": "https://localhost:8080/"
        },
        "id": "hYgGNETlp57_",
        "outputId": "eb7a41fb-a1be-4bda-fdd7-fdff17b96db8"
      },
      "execution_count": 7,
      "outputs": [
        {
          "output_type": "stream",
          "name": "stdout",
          "text": [
            "Authtoken saved to configuration file: /root/.ngrok2/ngrok.yml\n"
          ]
        }
      ]
    },
    {
      "cell_type": "code",
      "source": [
        "get_ipython().system_raw('./ngrok http 8501 &')"
      ],
      "metadata": {
        "id": "mhROnPRjpXrh"
      },
      "execution_count": 12,
      "outputs": []
    },
    {
      "cell_type": "code",
      "source": [
        "!curl -s http://localhost:4040/api/tunnels | python3 -c \\\n",
        "    'import sys, json; print(\"Execute the next cell and the go to the following URL: \" +json.load(sys.stdin)[\"tunnels\"][0][\"public_url\"])'"
      ],
      "metadata": {
        "colab": {
          "base_uri": "https://localhost:8080/"
        },
        "id": "OX9oO0ULpZr6",
        "outputId": "10833b2a-4076-4c32-834a-a433edbd54a9"
      },
      "execution_count": 13,
      "outputs": [
        {
          "output_type": "stream",
          "name": "stdout",
          "text": [
            "Execute the next cell and the go to the following URL: http://b720-35-247-59-217.ngrok.io\n"
          ]
        }
      ]
    },
    {
      "cell_type": "code",
      "source": [
        "!streamlit run /content/app.py"
      ],
      "metadata": {
        "colab": {
          "base_uri": "https://localhost:8080/"
        },
        "id": "x92jK0wQpb_Y",
        "outputId": "04dd94c6-998d-44f9-84ce-3037affe3cb3"
      },
      "execution_count": null,
      "outputs": [
        {
          "output_type": "stream",
          "name": "stdout",
          "text": [
            "\u001b[0m\n",
            "\u001b[34m\u001b[1m  You can now view your Streamlit app in your browser.\u001b[0m\n",
            "\u001b[0m\n",
            "\u001b[34m  Network URL: \u001b[0m\u001b[1mhttp://172.28.0.2:8501\u001b[0m\n",
            "\u001b[34m  External URL: \u001b[0m\u001b[1mhttp://35.247.59.217:8501\u001b[0m\n",
            "\u001b[0m\n"
          ]
        }
      ]
    }
  ]
}